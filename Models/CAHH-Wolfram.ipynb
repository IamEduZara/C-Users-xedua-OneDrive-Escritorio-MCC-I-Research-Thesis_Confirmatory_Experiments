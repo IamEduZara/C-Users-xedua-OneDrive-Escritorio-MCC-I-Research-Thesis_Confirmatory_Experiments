{
 "cells": [
  {
   "cell_type": "code",
   "execution_count": 1,
   "metadata": {},
   "outputs": [],
   "source": [
    "import cellpylib\n",
    "import pandas\n",
    "import numpy\n",
    "import os"
   ]
  },
  {
   "cell_type": "code",
   "execution_count": 2,
   "metadata": {},
   "outputs": [],
   "source": [
    "path_test_kpi_raw = r\"C:\\Users\\xedua\\OneDrive\\Escritorio\\MCC-I\\Research\\Thesis_Confirmatory_Experiments\\Instances\\Test\"\n",
    "path_results = r\"C:\\Users\\xedua\\OneDrive\\Escritorio\\MCC-I\\Research\\Thesis_Confirmatory_Experiments\\Results\\Wolfram-CA_results\""
   ]
  },
  {
   "cell_type": "code",
   "execution_count": 3,
   "metadata": {},
   "outputs": [],
   "source": [
    "# Generator/Selector of PIs\n",
    "def instances(lib, instance_number, number_objects=100, difficulty=\"EASY\"):\n",
    "    fileName = path_test_kpi_raw + f\"\\\\GA-{lib}_{difficulty}_{number_objects}_{instance_number:03d}.kp\"\n",
    "    with open(fileName, \"r\") as f:\n",
    "        lines = f.readlines()\n",
    "    line = lines[0].split(\",\")\n",
    "    nbItems = int(line[0].strip())\n",
    "    k_limit = int(line[1].strip())\n",
    "    PI = [None] * nbItems\n",
    "    for i in range(nbItems):\n",
    "        line = lines[i + 1].split(\",\")\n",
    "        weight = int(line[0].strip())\n",
    "        profit = float(line[1].strip())\n",
    "        PI[i] = (profit, weight)\n",
    "    return PI, k_limit"
   ]
  },
  {
   "cell_type": "code",
   "execution_count": 4,
   "metadata": {},
   "outputs": [],
   "source": [
    "def CA(rule, seed = None, number_objects=100):\n",
    "    if seed == None:\n",
    "        init = cellpylib.init_random(number_objects)\n",
    "    else:\n",
    "        init = numpy.array([seed])\n",
    "    cellular_automaton = cellpylib.evolve(init,\n",
    "                                          timesteps = number_objects,\n",
    "                                          memoize = True,\n",
    "                                          apply_rule = lambda \n",
    "                                          n,\n",
    "                                          c, \n",
    "                                          t: cellpylib.nks_rule(n, rule))\n",
    "    return cellular_automaton"
   ]
  },
  {
   "cell_type": "code",
   "execution_count": 5,
   "metadata": {},
   "outputs": [],
   "source": [
    "# Maximum Profit per Weight Unit Solution Generator\n",
    "def MAPW(PI, k_limit):\n",
    "    number_objects = len(PI)\n",
    "    wgt = 0\n",
    "    MAPW = []\n",
    "    solution = [0] * number_objects # Creates solution template of 0s\n",
    "    for i in range(number_objects):\n",
    "        MAPW.append((i, PI[i][0], PI[i][1], PI[i][0]/PI[i][1])) # Adds a new \n",
    "        # indexed problems list\n",
    "    MAPW = sorted(MAPW, reverse = True, key = lambda x: x[3]) # Sorts the new list\n",
    "    # by weight\n",
    "    for object in MAPW:\n",
    "        if object[2] > k_limit:\n",
    "            continue\n",
    "        wgt += object[2] # Evaluates the acumulated weight\n",
    "        if wgt <= k_limit: # When the knapsack is broken, omits the object\n",
    "            solution[object[0]] = 1 # Adds the most profitable object until full\n",
    "        else:\n",
    "            wgt -= object[2]\n",
    "    return solution"
   ]
  },
  {
   "cell_type": "code",
   "execution_count": 6,
   "metadata": {},
   "outputs": [],
   "source": [
    "# Minimum Weight Heuristic Solution Generator\n",
    "def MIW(PI, k_limit):\n",
    "    number_objects = len(PI)\n",
    "    wgt = 0\n",
    "    MIW = []\n",
    "    solution = [0] * number_objects # Creates solution template of 0s\n",
    "    for i in range(number_objects):\n",
    "        MIW.append((i, PI[i][0], PI[i][1])) # Adds a new indexed problems list\n",
    "    MIW = sorted(MIW, key = lambda x: x[2]) # Sorts the new list by weight\n",
    "    for object in MIW:\n",
    "        if object[2] > k_limit:\n",
    "            continue\n",
    "        wgt += object[2] # Evaluates the acumulated weight\n",
    "        if wgt <= k_limit: # When the knapsack is broken, omits the object\n",
    "            solution[object[0]] = 1 # Adds the lighter object until full\n",
    "        else:\n",
    "            wgt -= object[2]\n",
    "    return solution"
   ]
  },
  {
   "cell_type": "code",
   "execution_count": 7,
   "metadata": {},
   "outputs": [],
   "source": [
    "# Evaluator of Solutions\n",
    "def evaluator(PI, solution, k_limit):\n",
    "    s1 = (0, 0, 0)\n",
    "    for i in range(len(PI)): # Iterates all the objects in the problem instance\n",
    "        if solution[i] == 1: # When the object is in the knapsack considers the \n",
    "            # object in the evaluation\n",
    "            s1 = (k_limit, s1[1] + PI[i][0], s1[2] + PI[i][1]) # Sums up the profit and \n",
    "            # the weight of all the items\n",
    "    if s1[2] <= k_limit: # When the knapsack is not broken saves a record of 0\n",
    "        s1 = (k_limit, s1[1], s1[2], 0, solution)\n",
    "    else:\n",
    "        s1 = (k_limit, s1[1], s1[2], 1, solution) # When the knapsack is broken saves a record of 1\n",
    "    return s1"
   ]
  },
  {
   "cell_type": "code",
   "execution_count": 8,
   "metadata": {},
   "outputs": [],
   "source": [
    "def SolutionAssembler(PI, k_limit, strategy):\n",
    "    wgt = 0\n",
    "    solution = [0] * len(PI)\n",
    "    solvers = [MIW, MAPW]\n",
    "    for i in range(len(strategy)):\n",
    "        if PI[i][1] > k_limit:\n",
    "            continue\n",
    "        result = solvers[strategy[i]](PI[i:], k_limit)[0]\n",
    "        if result == 1:\n",
    "            wgt += PI[i][1]\n",
    "            if wgt > k_limit:\n",
    "                wgt -= PI[i][1]\n",
    "                solution[i] = 0 \n",
    "            else:\n",
    "                solution[i] = result\n",
    "    return solution"
   ]
  },
  {
   "cell_type": "code",
   "execution_count": 9,
   "metadata": {},
   "outputs": [],
   "source": [
    "# Cellular Automata Solution Generator (PBMH)\n",
    "def PBMH_SolutionAssembler(PI, k_limit, strategy):\n",
    "    wgt = 0\n",
    "    solution = [0] * len(PI)\n",
    "    solvers = [MIW, MAPW]\n",
    "    for i in range(len(strategy)):\n",
    "        if PI[i][1] > k_limit:\n",
    "            continue\n",
    "        result = solvers[strategy[i]](PI, k_limit)        \n",
    "        if result[i] == 1:\n",
    "            wgt += PI[i][1]\n",
    "            if wgt > k_limit:\n",
    "                wgt -= PI[i][1]\n",
    "                solution[i] = 0 \n",
    "            else:\n",
    "                solution[i] = result[i]\n",
    "    return solution"
   ]
  },
  {
   "cell_type": "code",
   "execution_count": 10,
   "metadata": {},
   "outputs": [],
   "source": [
    "def seeds_generator(heuristic_index, number_objects=100, difficulty=\"EASY\"):\n",
    "    libs = ['DEF', 'MAXPW', 'MAXP', 'MINW']\n",
    "    PI_nums = [num for num in range(number_objects)]\n",
    "    PI_labels = [f'GA-{lib}_{difficulty}_100_{str(num).zfill(3)}' for lib in libs for num in range(number_objects)]\n",
    "    evaluations = []\n",
    "    for lib in libs:\n",
    "        for PI_num in PI_nums:\n",
    "            PI, k_limit = instances(lib, PI_num)\n",
    "            solvers = [MIW(PI, k_limit), MAPW(PI, k_limit)]\n",
    "            solution = solvers[heuristic_index]\n",
    "            evaluations.append(evaluator(PI, solution, k_limit))\n",
    "    df = pandas.DataFrame(evaluations, columns = ['Knapsack Limit', 'Profit', 'Weight', 'Knapsack State', 'Solution'])\n",
    "    df.index = PI_labels\n",
    "    df.index.names = ['Problem Instance']\n",
    "    return df"
   ]
  },
  {
   "cell_type": "code",
   "execution_count": 11,
   "metadata": {},
   "outputs": [],
   "source": [
    "def solver(heuristics, HH_method, number_objects = 100):\n",
    "    libs = ['DEF', 'MAXPW', 'MAXP', 'MINW']\n",
    "    PI_nums = [num for num in range(number_objects)]\n",
    "    results = {}\n",
    "    for rule in range(1, 256):\n",
    "        evaluations = []\n",
    "        i = 0\n",
    "        for lib in libs:\n",
    "            for PI_num in PI_nums:\n",
    "                PI, k_limit = instances(lib, PI_num)                \n",
    "                solution = HH_method(PI, k_limit, heuristics[str(rule)][i])\n",
    "                evaluations.append(evaluator(PI, solution, k_limit))\n",
    "                i += 1                    \n",
    "        results[rule] = evaluations            \n",
    "    return results"
   ]
  },
  {
   "cell_type": "code",
   "execution_count": 12,
   "metadata": {},
   "outputs": [],
   "source": [
    "def strategy_gen():\n",
    "    seeds = seeds_generator(1).Solution\n",
    "    heuristics = {}\n",
    "    for rule in range(1, 256):\n",
    "        strategies = []\n",
    "        for seed in seeds:\n",
    "            strategies.append(CA(rule, seed)[-1])\n",
    "        heuristics[str(rule)] = strategies\n",
    "    return heuristics"
   ]
  },
  {
   "cell_type": "code",
   "execution_count": 13,
   "metadata": {},
   "outputs": [],
   "source": [
    "def run_experiment(strategy_gen, solver, seeds_generator, PI_labels, path_results, experiment_name, HH_method):\n",
    "    heuristics = strategy_gen()\n",
    "    results = solver(heuristics, HH_method)\n",
    "    profits = {key: [evaluation[1] for evaluation in value] for key, value in results.items()}\n",
    "    sum_profits = {key: sum(values) for key, values in profits.items()}\n",
    "    best_heuristic_rname = max(sum_profits, key=sum_profits.get)\n",
    "    best_performance_score = sum_profits[best_heuristic_rname]\n",
    "    best_heuristics = heuristics[str(best_heuristic_rname)]\n",
    "    best_results = results[best_heuristic_rname]\n",
    "\n",
    "    df = pandas.DataFrame(best_results, columns=[\"Knapsack Limit\", \"Profit\", \"Weight\", \"Knapsack State\", \"Solution\"])\n",
    "    df['Strategy'] = best_heuristics\n",
    "    df.index = PI_labels\n",
    "    df.index.names = ['Problem Instance']\n",
    "    results_file = os.path.join(path_results, f'{experiment_name}_Results.csv')\n",
    "    df.to_csv(results_file, encoding='utf-8')\n",
    "\n",
    "    print(f\"Data has been successfully written to {results_file}\")\n",
    "    print(f'Best CA heuristic: {best_heuristic_rname}, Performance: {best_performance_score}')\n",
    "\n",
    "    MIW_results = seeds_generator(0).Profit\n",
    "    MAXPW_results = seeds_generator(1).Profit\n",
    "    print('MIW Performance:' + str(sum(MIW_results)), 'MAXPW Performance:' + str(sum(MAXPW_results)))"
   ]
  },
  {
   "cell_type": "code",
   "execution_count": 14,
   "metadata": {},
   "outputs": [],
   "source": [
    "libs = ['DEF', 'MAXPW', 'MAXP', 'MINW']\n",
    "PI_labels = [f'GA-{lib}_EASY_100_{str(num).zfill(3)}' for lib in libs for num in range(100)]"
   ]
  },
  {
   "cell_type": "code",
   "execution_count": 15,
   "metadata": {},
   "outputs": [
    {
     "name": "stdout",
     "output_type": "stream",
     "text": [
      "Data has been successfully written to C:\\Users\\xedua\\OneDrive\\Escritorio\\MCC-I\\Research\\Thesis_Confirmatory_Experiments\\Results\\Wolfram-CA_results\\CAHH-Wolfram_Results.csv\n",
      "Best CA heuristic: 235, Performance: 330551.0\n",
      "MIW Performance:271660.0 MAXPW Performance:356612.0\n"
     ]
    }
   ],
   "source": [
    "# Experiment with Conventional Selection HH\n",
    "run_experiment(strategy_gen, solver, seeds_generator, PI_labels, path_results, \"CAHH-Wolfram\", SolutionAssembler)"
   ]
  },
  {
   "cell_type": "code",
   "execution_count": 16,
   "metadata": {},
   "outputs": [
    {
     "name": "stdout",
     "output_type": "stream",
     "text": [
      "Data has been successfully written to C:\\Users\\xedua\\OneDrive\\Escritorio\\MCC-I\\Research\\Thesis_Confirmatory_Experiments\\Results\\Wolfram-CA_results\\CAHH-Wolfram-PBMH_Results.csv\n",
      "Best CA heuristic: 235, Performance: 356612.0\n",
      "MIW Performance:271660.0 MAXPW Performance:356612.0\n"
     ]
    }
   ],
   "source": [
    "# Experiment with PBMH Based Selection HH\n",
    "run_experiment(strategy_gen, solver, seeds_generator, PI_labels, path_results, \"CAHH-Wolfram-PBMH\", PBMH_SolutionAssembler)"
   ]
  }
 ],
 "metadata": {
  "kernelspec": {
   "display_name": "Python 3",
   "language": "python",
   "name": "python3"
  },
  "language_info": {
   "codemirror_mode": {
    "name": "ipython",
    "version": 3
   },
   "file_extension": ".py",
   "mimetype": "text/x-python",
   "name": "python",
   "nbconvert_exporter": "python",
   "pygments_lexer": "ipython3",
   "version": "3.11.3"
  }
 },
 "nbformat": 4,
 "nbformat_minor": 2
}
