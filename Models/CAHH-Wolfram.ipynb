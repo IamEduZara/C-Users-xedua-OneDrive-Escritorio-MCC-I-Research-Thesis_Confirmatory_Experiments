{
 "cells": [
  {
   "cell_type": "code",
   "execution_count": 4,
   "metadata": {},
   "outputs": [],
   "source": [
    "import cellpylib\n",
    "import pandas\n",
    "import numpy\n",
    "import os"
   ]
  },
  {
   "cell_type": "code",
   "execution_count": 5,
   "metadata": {},
   "outputs": [],
   "source": [
    "# Generator/Selector of PIs\n",
    "def instances(PI_num, lib, PI_objs_num):\n",
    "    os.chdir(r\"C:\\Users\\xedua\\OneDrive\\Escritorio\\MCC-I\\Research\\Thesis_Experiments\\Balanced KP Instances 2024\\Training\")\n",
    "    # When knapsack limit undefined, an instance from the library is used\n",
    "    # fileName = f\"GA-{lib}_20_0{PI_num}.kp\"\n",
    "    # fileName = f\"GA-{lib}_50_0{PI_num}.kp\" # Introduces the number of\n",
    "    # objects into the filename that will be requested from the library\n",
    "    fileName = f\"GA-{lib}_EASY_{PI_objs_num}_{PI_num}.kp\"\n",
    "    f = open(fileName, \"r\") # Opening, reading, and cleaning the instance\n",
    "    lines = f.readlines()\n",
    "    line = lines[0].split(\",\")\n",
    "    nbItems = int(line[0].strip())\n",
    "    k_limit = int(line[1].strip())\n",
    "    PI = [None] * nbItems\n",
    "    for i in range(0, nbItems):\n",
    "        line = lines[i + 1].split(\",\")\n",
    "        weight = int(line[0].strip())\n",
    "        profit = float(line[1].strip())\n",
    "        PI[i] = (profit, weight) # Saves objects as (profit, weight)\n",
    "    return PI, k_limit # Returns the instance and the knapsack limit "
   ]
  },
  {
   "cell_type": "code",
   "execution_count": 6,
   "metadata": {},
   "outputs": [],
   "source": [
    "def CA(rule, seed = None):\n",
    "    if seed == None:\n",
    "        init = cellpylib.init_random(100)\n",
    "    else:\n",
    "        init = numpy.array([seed])\n",
    "    cellular_automaton = cellpylib.evolve(init,\n",
    "                                          timesteps = 100,\n",
    "                                          memoize = True,\n",
    "                                          apply_rule = lambda \n",
    "                                          n,\n",
    "                                          c, \n",
    "                                          t: cellpylib.nks_rule(n, rule))\n",
    "    return cellular_automaton"
   ]
  },
  {
   "cell_type": "code",
   "execution_count": 7,
   "metadata": {},
   "outputs": [],
   "source": [
    "# Maximum Profit per Weight Unit Solution Generator\n",
    "def MAPW(PI, k_limit):\n",
    "    number_objects = len(PI)\n",
    "    wgt = 0\n",
    "    MAPW = []\n",
    "    solution = [0] * number_objects # Creates solution template of 0s\n",
    "    for i in range(number_objects):\n",
    "        MAPW.append((i, PI[i][0], PI[i][1], PI[i][0]/PI[i][1])) # Adds a new \n",
    "        # indexed problems list\n",
    "    MAPW = sorted(MAPW, reverse = True, key = lambda x: x[3]) # Sorts the new list\n",
    "    # by weight\n",
    "    for object in MAPW:\n",
    "        if object[2] > k_limit:\n",
    "            continue\n",
    "        wgt += object[2] # Evaluates the acumulated weight\n",
    "        if wgt <= k_limit: # When the knapsack is broken, omits the object\n",
    "            solution[object[0]] = 1 # Adds the most profitable object until full\n",
    "        else:\n",
    "            wgt -= object[2]\n",
    "    return solution"
   ]
  },
  {
   "cell_type": "code",
   "execution_count": 8,
   "metadata": {},
   "outputs": [],
   "source": [
    "# Minimum Weight Heuristic Solution Generator\n",
    "def MIW(PI, k_limit):\n",
    "    number_objects = len(PI)\n",
    "    wgt = 0\n",
    "    MIW = []\n",
    "    solution = [0] * number_objects # Creates solution template of 0s\n",
    "    for i in range(number_objects):\n",
    "        MIW.append((i, PI[i][0], PI[i][1])) # Adds a new indexed problems list\n",
    "    MIW = sorted(MIW, key = lambda x: x[2]) # Sorts the new list by weight\n",
    "    for object in MIW:\n",
    "        if object[2] > k_limit:\n",
    "            continue\n",
    "        wgt += object[2] # Evaluates the acumulated weight\n",
    "        if wgt <= k_limit: # When the knapsack is broken, omits the object\n",
    "            solution[object[0]] = 1 # Adds the lighter object until full\n",
    "        else:\n",
    "            wgt -= object[2]\n",
    "    return solution"
   ]
  },
  {
   "cell_type": "code",
   "execution_count": 9,
   "metadata": {},
   "outputs": [],
   "source": [
    "# Evaluator of Solutions\n",
    "def evaluator(PI, solution, k_limit):\n",
    "    s1 = (0, 0, 0, 0)\n",
    "    for i in range(len(PI)): # Iterates all the objects in the problem instance\n",
    "        if solution[i] == 1: # When the object is in the knapsack considers the \n",
    "            # object in the evaluation\n",
    "            s1 = (k_limit, s1[1] + PI[i][0], s1[2] + PI[i][1]) # Sums up the profit and \n",
    "            # the weight of all the items\n",
    "    if s1[2] <= k_limit: # When the knapsack is not broken saves a record of 0\n",
    "        s1 = (k_limit, s1[1], s1[2], 0, solution)\n",
    "    else:\n",
    "        s1 = (k_limit, s1[1], s1[2], 1, solution) # When the knapsack is broken saves a record of 1\n",
    "    return s1"
   ]
  },
  {
   "cell_type": "code",
   "execution_count": 10,
   "metadata": {},
   "outputs": [],
   "source": [
    "# Cellular Automata Solution Generator\n",
    "def SolutionAssembler(PI, k_limit, strategy):\n",
    "    wgt = 0\n",
    "    solution = [0] * len(PI)\n",
    "    for i in range(len(strategy)):\n",
    "        solvers = [MIW(PI[i:], k_limit), MAPW(PI[i:], k_limit)]\n",
    "        result = solvers[strategy[i]][0]\n",
    "        if PI[i][1] > k_limit:\n",
    "            continue\n",
    "        if result == 1:\n",
    "            wgt += PI[i][1]\n",
    "        if wgt <= k_limit:\n",
    "            solution[i] = result\n",
    "        else:\n",
    "            wgt -= PI[i][1]\n",
    "    return solution"
   ]
  },
  {
   "cell_type": "code",
   "execution_count": 11,
   "metadata": {},
   "outputs": [],
   "source": [
    "# Cellular Automata Solution Generator\n",
    "def SolutionAssembler(PI, k_limit, strategy):\n",
    "    solvers = [MAPW(PI, k_limit), MIW(PI, k_limit)]\n",
    "    solution = [0] * len(PI)\n",
    "    wgt = 0\n",
    "    for i in range(len(strategy)):\n",
    "        result = solvers[strategy[i]]\n",
    "        if PI[i][1] > k_limit:\n",
    "            continue\n",
    "        if result[i] == 1:\n",
    "            wgt += PI[i][1]\n",
    "        if wgt <= k_limit:\n",
    "            solution[i] = result[i]\n",
    "        else:\n",
    "            wgt -= PI[i][1]\n",
    "    return solution"
   ]
  },
  {
   "cell_type": "code",
   "execution_count": 12,
   "metadata": {},
   "outputs": [],
   "source": [
    "def seeds_generator(heuristic_index):\n",
    "    # instance_libraries = [('DEF', '100'), ('MARK', '25'), ('MAXP', '100'), ('MAXPW', '25'), ('MINW', '100')]\n",
    "    instance_libraries = [('DEF', '100'), ('MAXP', '100'), ('MAXPW', '100'), ('MINW', '100')]\n",
    "    PI_nums = [str(num).zfill(3) for num in range(25)]\n",
    "    evaluations = []\n",
    "    PI_label_nums = []\n",
    "    for lib, num in instance_libraries:\n",
    "        for i in range(len(PI_nums)):\n",
    "            PI_label_nums.append(f'{lib}_50_{str(i + 1).zfill(2)}')\n",
    "            PI, k_limit = instances(PI_nums[i], lib, num)\n",
    "            solvers = [MIW(PI, k_limit), MAPW(PI, k_limit)]\n",
    "            solution = solvers[heuristic_index]\n",
    "            evaluations.append(evaluator(PI, solution, k_limit))\n",
    "        df = pandas.DataFrame(evaluations, columns = ['Knapsack Limit', 'Profit', 'Weight', 'Knapsack State', 'Solution'])\n",
    "        df.index = PI_label_nums\n",
    "        df.index.names = ['Problem Instance']\n",
    "    return df"
   ]
  },
  {
   "cell_type": "code",
   "execution_count": 13,
   "metadata": {},
   "outputs": [],
   "source": [
    "def solver(heuristics):\n",
    "    # instance_libraries = [('DEF', '100'), ('MARK', '25'), ('MAXP', '100'), ('MAXPW', '25'), ('MINW', '100')]\n",
    "    instance_libraries = [('DEF', '100'), ('MAXP', '100'), ('MAXPW', '100'), ('MINW', '100')]\n",
    "    PI_nums = [str(num).zfill(3) for num in range(25)]\n",
    "    results = {}\n",
    "    PI_label_nums = []\n",
    "    for rule in range(1, 256):\n",
    "        evaluations = []\n",
    "        i = 0\n",
    "        for lib, num in instance_libraries:\n",
    "            for j in range(len(PI_nums)):\n",
    "                PI, k_limit = instances(PI_nums[j], lib, num)                \n",
    "                solution = SolutionAssembler(PI, k_limit, heuristics[str(rule)][i])\n",
    "                evaluations.append(evaluator(PI, solution, k_limit)[1])                    \n",
    "                i += 1\n",
    "        results[rule] = evaluations            \n",
    "    return results"
   ]
  },
  {
   "cell_type": "code",
   "execution_count": 14,
   "metadata": {},
   "outputs": [],
   "source": [
    "seeds = seeds_generator(1).Solution\n",
    "heuristics = {}\n",
    "for rule in range(1, 256):\n",
    "    strategies = []\n",
    "    for seed in seeds:\n",
    "        strategies.append(CA(rule, seed)[-1])\n",
    "    heuristics[str(rule)] = strategies"
   ]
  },
  {
   "cell_type": "code",
   "execution_count": null,
   "metadata": {},
   "outputs": [],
   "source": []
  },
  {
   "cell_type": "code",
   "execution_count": 20,
   "metadata": {},
   "outputs": [],
   "source": [
    "results = solver(heuristics)\n",
    "sum_results = {key: sum(value) for key, value in results.items()}"
   ]
  },
  {
   "cell_type": "code",
   "execution_count": 21,
   "metadata": {},
   "outputs": [
    {
     "name": "stdout",
     "output_type": "stream",
     "text": [
      "Best CA heuristic: 8, Performance: 89181.0\n"
     ]
    }
   ],
   "source": [
    "best_heuristic = max(sum_results, key = sum_results.get)\n",
    "best_performance_score = sum_results[best_heuristic]\n",
    "print(f'Best CA heuristic: {best_heuristic}, Performance: {best_performance_score}')"
   ]
  },
  {
   "cell_type": "code",
   "execution_count": 22,
   "metadata": {},
   "outputs": [
    {
     "name": "stdout",
     "output_type": "stream",
     "text": [
      "MIW Performance:67522.0 MAXPW Performance:89181.0\n"
     ]
    }
   ],
   "source": [
    "MIW_results = seeds_generator(0).Profit\n",
    "MAXPW_results = seeds_generator(1).Profit\n",
    "print('MIW Performance:' + str(sum(MIW_results)), 'MAXPW Performance:' + str(sum(MAXPW_results)))"
   ]
  },
  {
   "cell_type": "code",
   "execution_count": null,
   "metadata": {},
   "outputs": [],
   "source": [
    "# def HHRun():\n",
    "#     heuristics = {}\n",
    "#     for rule in range(252, 253):\n",
    "#         strategies = []\n",
    "#         for _ in range(100):\n",
    "#             strategies.append(CA(rule)[-1])\n",
    "#         heuristics[str(rule)] = strategies\n",
    "#     results = solver(heuristics)\n",
    "#     sum_results = {key: sum(value) for key, value in results.items()}\n",
    "#     best_heuristic = max(sum_results, key = sum_results.get)\n",
    "#     best_performance_score = sum_results[best_heuristic]\n",
    "#     return (sum_results, best_heuristic, best_performance_score)"
   ]
  },
  {
   "cell_type": "code",
   "execution_count": null,
   "metadata": {},
   "outputs": [],
   "source": [
    "# def PBMH():\n",
    "#     CA = [HHRun() for _ in range(100)]\n",
    "#     acum = []\n",
    "#     for _ in range(100):\n",
    "#         # Create a copy of the current cellular automata generation\n",
    "#         new_CA = CA.copy()\n",
    "#         for i in range(len(CA)):\n",
    "#             # Create new solution for this cell\n",
    "#             new_solution = HHRun()\n",
    "#             if new_solution[2] > CA[i][2]:\n",
    "#                 new_CA[i] = new_solution\n",
    "#         # Update cellular automata with new generation\n",
    "#         CA = new_CA\n",
    "#         acum.append(CA)\n",
    "#     # Calculate the profits for the last generation\n",
    "#     profits = [solution[2] for solution in CA]\n",
    "\n",
    "#     # Select the best solution (highest profit) from the last generation\n",
    "#     best_solution = CA[profits.index(max(profits))]\n",
    "#     # return acum\n",
    "#     return best_solution"
   ]
  },
  {
   "cell_type": "code",
   "execution_count": null,
   "metadata": {},
   "outputs": [],
   "source": [
    "# BS = PBMH()"
   ]
  },
  {
   "cell_type": "code",
   "execution_count": null,
   "metadata": {},
   "outputs": [],
   "source": [
    "# print(BS[1], BS[2])"
   ]
  },
  {
   "cell_type": "code",
   "execution_count": 23,
   "metadata": {},
   "outputs": [],
   "source": [
    "# heuristics = {}\n",
    "# for rule in range(1, 256):\n",
    "#     strategies = []\n",
    "#     for _ in range(100):\n",
    "#         strategies.append(CA(rule)[-1])\n",
    "#     heuristics[str(rule)] = strategies"
   ]
  },
  {
   "cell_type": "code",
   "execution_count": 24,
   "metadata": {},
   "outputs": [],
   "source": [
    "# results = solver(heuristics)\n",
    "# sum_results = {key: sum(value) for key, value in results.items()}"
   ]
  },
  {
   "cell_type": "code",
   "execution_count": 25,
   "metadata": {},
   "outputs": [
    {
     "name": "stdout",
     "output_type": "stream",
     "text": [
      "Best CA heuristic: 8, Performance: 89181.0\n"
     ]
    }
   ],
   "source": [
    "# best_heuristic = max(sum_results, key = sum_results.get)\n",
    "# best_performance_score = sum_results[best_heuristic]\n",
    "# print(f'Best CA heuristic: {best_heuristic}, Performance: {best_performance_score}')"
   ]
  },
  {
   "cell_type": "code",
   "execution_count": 26,
   "metadata": {},
   "outputs": [
    {
     "name": "stdout",
     "output_type": "stream",
     "text": [
      "MIW Performance:67522.0 MAXPW Performance:89181.0\n"
     ]
    }
   ],
   "source": [
    "# MIW_results = seeds_generator(0).Profit\n",
    "# MAXPW_results = seeds_generator(1).Profit\n",
    "# print('MIW Performance:' + str(sum(MIW_results)), 'MAXPW Performance:' + str(sum(MAXPW_results)))"
   ]
  }
 ],
 "metadata": {
  "kernelspec": {
   "display_name": "Python 3",
   "language": "python",
   "name": "python3"
  },
  "language_info": {
   "codemirror_mode": {
    "name": "ipython",
    "version": 3
   },
   "file_extension": ".py",
   "mimetype": "text/x-python",
   "name": "python",
   "nbconvert_exporter": "python",
   "pygments_lexer": "ipython3",
   "version": "3.11.3"
  }
 },
 "nbformat": 4,
 "nbformat_minor": 2
}
