{
 "cells": [
  {
   "cell_type": "code",
   "execution_count": 1,
   "metadata": {},
   "outputs": [],
   "source": [
    "import pandas as pd"
   ]
  },
  {
   "cell_type": "code",
   "execution_count": 2,
   "metadata": {},
   "outputs": [],
   "source": [
    "test_kpi_characterized_path = r\"C:\\Users\\xedua\\OneDrive\\Escritorio\\MCC-I\\Research\\Thesis_Confirmatory_Experiments\\Instances\\test_kpi_characterized.csv\"\n",
    "cahh_wolfram_kpi_results_path = r\"C:\\Users\\xedua\\OneDrive\\Escritorio\\MCC-I\\Research\\Thesis_Confirmatory_Experiments\\Results\\Wolfram-CA_results/CAHH-Wolfram_Results.csv\"\n",
    "cahh_wolfram_pbmh_kpi_results_path = r\"C:\\Users\\xedua\\OneDrive\\Escritorio\\MCC-I\\Research\\Thesis_Confirmatory_Experiments\\Results\\Wolfram-CA_results\\CAHH-Wolfram-PBMH_Results.csv\"\n",
    "output_wolfram_results_path = r\"C:\\Users\\xedua\\OneDrive\\Escritorio\\MCC-I\\Research\\Thesis_Confirmatory_Experiments\\Results\\Wolfram-CA_results\""
   ]
  },
  {
   "cell_type": "code",
   "execution_count": 3,
   "metadata": {},
   "outputs": [],
   "source": [
    "df_heuristics = pd.read_csv(test_kpi_characterized_path)\n",
    "df_cahh_w = pd.read_csv(cahh_wolfram_kpi_results_path)\n",
    "df_cahh_w_pbmh = pd.read_csv(cahh_wolfram_pbmh_kpi_results_path)"
   ]
  },
  {
   "cell_type": "code",
   "execution_count": 4,
   "metadata": {},
   "outputs": [],
   "source": [
    "columns_to_drop_from_heuristics = [\"WEIGHT\", \"PROFIT\", \"CORRELATION\", \"BEST\", \"ORACLE\"]\n",
    "df_heuristics.drop(columns = columns_to_drop_from_heuristics, inplace=True, errors='ignore')"
   ]
  },
  {
   "cell_type": "code",
   "execution_count": 5,
   "metadata": {},
   "outputs": [],
   "source": [
    "columns_to_drop_from_models = ['Weight', \"Knapsack Limit\", \"Knapsack State\", \"Solution\", \"Strategy\"]\n",
    "df_cahh_w.drop(columns = columns_to_drop_from_models, inplace=True, errors='ignore')\n",
    "df_cahh_w.rename(columns = {'Profit' : 'CAHH_W'}, inplace=True)\n",
    "df_cahh_w_pbmh.drop(columns = columns_to_drop_from_models, inplace=True, errors='ignore')\n",
    "df_cahh_w_pbmh.rename(columns = {'Profit' : 'CAHH_W_P'}, inplace=True)"
   ]
  },
  {
   "cell_type": "code",
   "execution_count": 6,
   "metadata": {},
   "outputs": [],
   "source": [
    "df_cahh_w.rename(columns={'Problem Instance': 'INSTANCE'}, inplace=True)\n",
    "df_cahh_w_pbmh.rename(columns={'Problem Instance': 'INSTANCE'}, inplace=True)\n",
    "df_heuristics['INSTANCE'] = df_heuristics['INSTANCE'].str.split('.').str[0]"
   ]
  },
  {
   "cell_type": "code",
   "execution_count": 7,
   "metadata": {},
   "outputs": [],
   "source": [
    "merged_df = pd.merge(df_heuristics, df_cahh_w, on=\"INSTANCE\", how=\"outer\")\n",
    "df_report_results = pd.merge(merged_df, df_cahh_w_pbmh, on=\"INSTANCE\", how=\"outer\")"
   ]
  },
  {
   "cell_type": "code",
   "execution_count": 8,
   "metadata": {},
   "outputs": [
    {
     "data": {
      "text/html": [
       "<div>\n",
       "<style scoped>\n",
       "    .dataframe tbody tr th:only-of-type {\n",
       "        vertical-align: middle;\n",
       "    }\n",
       "\n",
       "    .dataframe tbody tr th {\n",
       "        vertical-align: top;\n",
       "    }\n",
       "\n",
       "    .dataframe thead th {\n",
       "        text-align: right;\n",
       "    }\n",
       "</style>\n",
       "<table border=\"1\" class=\"dataframe\">\n",
       "  <thead>\n",
       "    <tr style=\"text-align: right;\">\n",
       "      <th></th>\n",
       "      <th>INSTANCE</th>\n",
       "      <th>DEF</th>\n",
       "      <th>MAXP</th>\n",
       "      <th>MAXPW</th>\n",
       "      <th>MINW</th>\n",
       "    </tr>\n",
       "  </thead>\n",
       "  <tbody>\n",
       "    <tr>\n",
       "      <th>0</th>\n",
       "      <td>GA-DEF_EASY_100_000</td>\n",
       "      <td>686</td>\n",
       "      <td>506</td>\n",
       "      <td>613</td>\n",
       "      <td>613</td>\n",
       "    </tr>\n",
       "    <tr>\n",
       "      <th>1</th>\n",
       "      <td>GA-DEF_EASY_100_001</td>\n",
       "      <td>704</td>\n",
       "      <td>311</td>\n",
       "      <td>643</td>\n",
       "      <td>507</td>\n",
       "    </tr>\n",
       "    <tr>\n",
       "      <th>2</th>\n",
       "      <td>GA-DEF_EASY_100_002</td>\n",
       "      <td>571</td>\n",
       "      <td>272</td>\n",
       "      <td>513</td>\n",
       "      <td>486</td>\n",
       "    </tr>\n",
       "    <tr>\n",
       "      <th>3</th>\n",
       "      <td>GA-DEF_EASY_100_003</td>\n",
       "      <td>1046</td>\n",
       "      <td>711</td>\n",
       "      <td>975</td>\n",
       "      <td>975</td>\n",
       "    </tr>\n",
       "    <tr>\n",
       "      <th>4</th>\n",
       "      <td>GA-DEF_EASY_100_004</td>\n",
       "      <td>691</td>\n",
       "      <td>352</td>\n",
       "      <td>625</td>\n",
       "      <td>625</td>\n",
       "    </tr>\n",
       "  </tbody>\n",
       "</table>\n",
       "</div>"
      ],
      "text/plain": [
       "              INSTANCE   DEF  MAXP  MAXPW  MINW\n",
       "0  GA-DEF_EASY_100_000   686   506    613   613\n",
       "1  GA-DEF_EASY_100_001   704   311    643   507\n",
       "2  GA-DEF_EASY_100_002   571   272    513   486\n",
       "3  GA-DEF_EASY_100_003  1046   711    975   975\n",
       "4  GA-DEF_EASY_100_004   691   352    625   625"
      ]
     },
     "execution_count": 8,
     "metadata": {},
     "output_type": "execute_result"
    }
   ],
   "source": [
    "df_heuristics.head(5)"
   ]
  },
  {
   "cell_type": "code",
   "execution_count": 9,
   "metadata": {},
   "outputs": [
    {
     "data": {
      "text/html": [
       "<div>\n",
       "<style scoped>\n",
       "    .dataframe tbody tr th:only-of-type {\n",
       "        vertical-align: middle;\n",
       "    }\n",
       "\n",
       "    .dataframe tbody tr th {\n",
       "        vertical-align: top;\n",
       "    }\n",
       "\n",
       "    .dataframe thead th {\n",
       "        text-align: right;\n",
       "    }\n",
       "</style>\n",
       "<table border=\"1\" class=\"dataframe\">\n",
       "  <thead>\n",
       "    <tr style=\"text-align: right;\">\n",
       "      <th></th>\n",
       "      <th>DEF</th>\n",
       "      <th>MAXP</th>\n",
       "      <th>MAXPW</th>\n",
       "      <th>MINW</th>\n",
       "      <th>CAHH_W</th>\n",
       "      <th>CAHH_W_P</th>\n",
       "    </tr>\n",
       "    <tr>\n",
       "      <th>INSTANCE</th>\n",
       "      <th></th>\n",
       "      <th></th>\n",
       "      <th></th>\n",
       "      <th></th>\n",
       "      <th></th>\n",
       "      <th></th>\n",
       "    </tr>\n",
       "  </thead>\n",
       "  <tbody>\n",
       "    <tr>\n",
       "      <th>GA-DEF_EASY_100_000</th>\n",
       "      <td>686</td>\n",
       "      <td>506</td>\n",
       "      <td>613</td>\n",
       "      <td>613</td>\n",
       "      <td>686.0</td>\n",
       "      <td>613.0</td>\n",
       "    </tr>\n",
       "    <tr>\n",
       "      <th>GA-DEF_EASY_100_001</th>\n",
       "      <td>704</td>\n",
       "      <td>311</td>\n",
       "      <td>643</td>\n",
       "      <td>507</td>\n",
       "      <td>683.0</td>\n",
       "      <td>643.0</td>\n",
       "    </tr>\n",
       "    <tr>\n",
       "      <th>GA-DEF_EASY_100_002</th>\n",
       "      <td>571</td>\n",
       "      <td>272</td>\n",
       "      <td>513</td>\n",
       "      <td>486</td>\n",
       "      <td>496.0</td>\n",
       "      <td>513.0</td>\n",
       "    </tr>\n",
       "    <tr>\n",
       "      <th>GA-DEF_EASY_100_003</th>\n",
       "      <td>1046</td>\n",
       "      <td>711</td>\n",
       "      <td>975</td>\n",
       "      <td>975</td>\n",
       "      <td>696.0</td>\n",
       "      <td>975.0</td>\n",
       "    </tr>\n",
       "    <tr>\n",
       "      <th>GA-DEF_EASY_100_004</th>\n",
       "      <td>691</td>\n",
       "      <td>352</td>\n",
       "      <td>625</td>\n",
       "      <td>625</td>\n",
       "      <td>648.0</td>\n",
       "      <td>625.0</td>\n",
       "    </tr>\n",
       "  </tbody>\n",
       "</table>\n",
       "</div>"
      ],
      "text/plain": [
       "                      DEF  MAXP  MAXPW  MINW  CAHH_W  CAHH_W_P\n",
       "INSTANCE                                                      \n",
       "GA-DEF_EASY_100_000   686   506    613   613   686.0     613.0\n",
       "GA-DEF_EASY_100_001   704   311    643   507   683.0     643.0\n",
       "GA-DEF_EASY_100_002   571   272    513   486   496.0     513.0\n",
       "GA-DEF_EASY_100_003  1046   711    975   975   696.0     975.0\n",
       "GA-DEF_EASY_100_004   691   352    625   625   648.0     625.0"
      ]
     },
     "execution_count": 9,
     "metadata": {},
     "output_type": "execute_result"
    }
   ],
   "source": [
    "df_report_results.set_index('INSTANCE', inplace=True)\n",
    "df_report_results.head(5)"
   ]
  },
  {
   "cell_type": "code",
   "execution_count": 10,
   "metadata": {},
   "outputs": [],
   "source": [
    "df_report_results.to_csv(output_wolfram_results_path + \"//wolfram_cahh_comparison.csv\")"
   ]
  }
 ],
 "metadata": {
  "kernelspec": {
   "display_name": "Python 3",
   "language": "python",
   "name": "python3"
  },
  "language_info": {
   "codemirror_mode": {
    "name": "ipython",
    "version": 3
   },
   "file_extension": ".py",
   "mimetype": "text/x-python",
   "name": "python",
   "nbconvert_exporter": "python",
   "pygments_lexer": "ipython3",
   "version": "3.11.3"
  }
 },
 "nbformat": 4,
 "nbformat_minor": 2
}
