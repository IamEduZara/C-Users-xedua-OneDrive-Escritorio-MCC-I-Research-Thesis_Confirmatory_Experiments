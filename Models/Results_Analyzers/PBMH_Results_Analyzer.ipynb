{
 "cells": [
  {
   "cell_type": "code",
   "execution_count": 1,
   "metadata": {},
   "outputs": [],
   "source": [
    "import pandas as pd"
   ]
  },
  {
   "cell_type": "code",
   "execution_count": 3,
   "metadata": {},
   "outputs": [],
   "source": [
    "test_kpi_characterized_path = r\"C:\\Users\\xedua\\OneDrive\\Escritorio\\MCC-I\\Research\\Thesis_Confirmatory_Experiments\\Instances\\test_kpi_characterized.csv\"\n",
    "pbmh_kpi_results_path = r\"C:\\Users\\xedua\\OneDrive\\Escritorio\\MCC-I\\Research\\Thesis_Confirmatory_Experiments\\Results\\PBMH_results\\PBMH_results.csv\"\n",
    "ga_kpi_results_path =  r\"C:\\Users\\xedua\\OneDrive\\Escritorio\\MCC-I\\Research\\Thesis_Confirmatory_Experiments\\Results\\PBMH_results\\GA_rival_results\\GAKP_Results.csv\"\n",
    "output_pbmh_results_path = r\"C:\\Users\\xedua\\OneDrive\\Escritorio\\MCC-I\\Research\\Thesis_Confirmatory_Experiments\\Results\\PBMH_results\""
   ]
  },
  {
   "cell_type": "code",
   "execution_count": 6,
   "metadata": {},
   "outputs": [],
   "source": [
    "df_heuristics = pd.read_csv(test_kpi_characterized_path)\n",
    "df_pbmh = pd.read_csv(pbmh_kpi_results_path)\n",
    "df_ga = pd.read_csv(ga_kpi_results_path)"
   ]
  },
  {
   "cell_type": "code",
   "execution_count": 5,
   "metadata": {},
   "outputs": [
    {
     "data": {
      "text/html": [
       "<div>\n",
       "<style scoped>\n",
       "    .dataframe tbody tr th:only-of-type {\n",
       "        vertical-align: middle;\n",
       "    }\n",
       "\n",
       "    .dataframe tbody tr th {\n",
       "        vertical-align: top;\n",
       "    }\n",
       "\n",
       "    .dataframe thead th {\n",
       "        text-align: right;\n",
       "    }\n",
       "</style>\n",
       "<table border=\"1\" class=\"dataframe\">\n",
       "  <thead>\n",
       "    <tr style=\"text-align: right;\">\n",
       "      <th></th>\n",
       "      <th>INSTANCE</th>\n",
       "      <th>WEIGHT</th>\n",
       "      <th>PROFIT</th>\n",
       "      <th>CORRELATION</th>\n",
       "      <th>DEF</th>\n",
       "      <th>MAXP</th>\n",
       "      <th>MAXPW</th>\n",
       "      <th>MINW</th>\n",
       "      <th>BEST</th>\n",
       "      <th>ORACLE</th>\n",
       "    </tr>\n",
       "  </thead>\n",
       "  <tbody>\n",
       "    <tr>\n",
       "      <th>0</th>\n",
       "      <td>GA-DEF_EASY_100_000.kp</td>\n",
       "      <td>0.576</td>\n",
       "      <td>0.484</td>\n",
       "      <td>0.395</td>\n",
       "      <td>686</td>\n",
       "      <td>506</td>\n",
       "      <td>613</td>\n",
       "      <td>613</td>\n",
       "      <td>DEF</td>\n",
       "      <td>686</td>\n",
       "    </tr>\n",
       "    <tr>\n",
       "      <th>1</th>\n",
       "      <td>GA-DEF_EASY_100_001.kp</td>\n",
       "      <td>0.620</td>\n",
       "      <td>0.463</td>\n",
       "      <td>0.484</td>\n",
       "      <td>704</td>\n",
       "      <td>311</td>\n",
       "      <td>643</td>\n",
       "      <td>507</td>\n",
       "      <td>DEF</td>\n",
       "      <td>704</td>\n",
       "    </tr>\n",
       "    <tr>\n",
       "      <th>2</th>\n",
       "      <td>GA-DEF_EASY_100_002.kp</td>\n",
       "      <td>0.594</td>\n",
       "      <td>0.490</td>\n",
       "      <td>0.525</td>\n",
       "      <td>571</td>\n",
       "      <td>272</td>\n",
       "      <td>513</td>\n",
       "      <td>486</td>\n",
       "      <td>DEF</td>\n",
       "      <td>571</td>\n",
       "    </tr>\n",
       "    <tr>\n",
       "      <th>3</th>\n",
       "      <td>GA-DEF_EASY_100_003.kp</td>\n",
       "      <td>0.550</td>\n",
       "      <td>0.442</td>\n",
       "      <td>0.405</td>\n",
       "      <td>1046</td>\n",
       "      <td>711</td>\n",
       "      <td>975</td>\n",
       "      <td>975</td>\n",
       "      <td>DEF</td>\n",
       "      <td>1046</td>\n",
       "    </tr>\n",
       "    <tr>\n",
       "      <th>4</th>\n",
       "      <td>GA-DEF_EASY_100_004.kp</td>\n",
       "      <td>0.576</td>\n",
       "      <td>0.530</td>\n",
       "      <td>0.444</td>\n",
       "      <td>691</td>\n",
       "      <td>352</td>\n",
       "      <td>625</td>\n",
       "      <td>625</td>\n",
       "      <td>DEF</td>\n",
       "      <td>691</td>\n",
       "    </tr>\n",
       "  </tbody>\n",
       "</table>\n",
       "</div>"
      ],
      "text/plain": [
       "                 INSTANCE  WEIGHT  PROFIT  CORRELATION   DEF  MAXP  MAXPW   \n",
       "0  GA-DEF_EASY_100_000.kp   0.576   0.484        0.395   686   506    613  \\\n",
       "1  GA-DEF_EASY_100_001.kp   0.620   0.463        0.484   704   311    643   \n",
       "2  GA-DEF_EASY_100_002.kp   0.594   0.490        0.525   571   272    513   \n",
       "3  GA-DEF_EASY_100_003.kp   0.550   0.442        0.405  1046   711    975   \n",
       "4  GA-DEF_EASY_100_004.kp   0.576   0.530        0.444   691   352    625   \n",
       "\n",
       "   MINW BEST  ORACLE  \n",
       "0   613  DEF     686  \n",
       "1   507  DEF     704  \n",
       "2   486  DEF     571  \n",
       "3   975  DEF    1046  \n",
       "4   625  DEF     691  "
      ]
     },
     "execution_count": 5,
     "metadata": {},
     "output_type": "execute_result"
    }
   ],
   "source": [
    "df_heuristics.head()"
   ]
  },
  {
   "cell_type": "code",
   "execution_count": 7,
   "metadata": {},
   "outputs": [],
   "source": [
    "columns_to_drop_from_heuristics = [\"WEIGHT\", \"PROFIT\", \"CORRELATION\", \"BEST\", \"ORACLE\"]\n",
    "df_heuristics.drop(columns = columns_to_drop_from_heuristics, inplace=True, errors='ignore')"
   ]
  },
  {
   "cell_type": "code",
   "execution_count": 8,
   "metadata": {},
   "outputs": [],
   "source": [
    "columns_to_drop_from_models = ['Weight', \"Knapsack Limit\", \"Knapsack State\", \"Solution\", \"Strategy\"]\n",
    "df_pbmh.drop(columns = columns_to_drop_from_models, inplace=True, errors='ignore')\n",
    "df_pbmh.rename(columns = {'Profit' : 'PBMH'}, inplace=True)\n",
    "df_ga.drop(columns = columns_to_drop_from_models[:4], inplace=True, errors='ignore')\n",
    "df_ga.rename(columns = {'Profit' : 'GA'}, inplace=True)"
   ]
  },
  {
   "cell_type": "code",
   "execution_count": 9,
   "metadata": {},
   "outputs": [],
   "source": [
    "df_pbmh.rename(columns={'Problem Instance': 'INSTANCE'}, inplace=True)\n",
    "df_ga.rename(columns={'Problem Instance': 'INSTANCE'}, inplace=True)\n",
    "df_heuristics['INSTANCE'] = df_heuristics['INSTANCE'].str.split('.').str[0]"
   ]
  },
  {
   "cell_type": "code",
   "execution_count": 11,
   "metadata": {},
   "outputs": [],
   "source": [
    "merged_df = pd.merge(df_heuristics, df_pbmh, on=\"INSTANCE\", how=\"outer\")\n",
    "df_report_results = pd.merge(merged_df, df_ga, on=\"INSTANCE\", how=\"outer\")"
   ]
  },
  {
   "cell_type": "code",
   "execution_count": 12,
   "metadata": {},
   "outputs": [
    {
     "data": {
      "text/html": [
       "<div>\n",
       "<style scoped>\n",
       "    .dataframe tbody tr th:only-of-type {\n",
       "        vertical-align: middle;\n",
       "    }\n",
       "\n",
       "    .dataframe tbody tr th {\n",
       "        vertical-align: top;\n",
       "    }\n",
       "\n",
       "    .dataframe thead th {\n",
       "        text-align: right;\n",
       "    }\n",
       "</style>\n",
       "<table border=\"1\" class=\"dataframe\">\n",
       "  <thead>\n",
       "    <tr style=\"text-align: right;\">\n",
       "      <th></th>\n",
       "      <th>DEF</th>\n",
       "      <th>MAXP</th>\n",
       "      <th>MAXPW</th>\n",
       "      <th>MINW</th>\n",
       "      <th>PBMH</th>\n",
       "      <th>GA</th>\n",
       "    </tr>\n",
       "    <tr>\n",
       "      <th>INSTANCE</th>\n",
       "      <th></th>\n",
       "      <th></th>\n",
       "      <th></th>\n",
       "      <th></th>\n",
       "      <th></th>\n",
       "      <th></th>\n",
       "    </tr>\n",
       "  </thead>\n",
       "  <tbody>\n",
       "    <tr>\n",
       "      <th>GA-DEF_EASY_100_000</th>\n",
       "      <td>686</td>\n",
       "      <td>506</td>\n",
       "      <td>613</td>\n",
       "      <td>613</td>\n",
       "      <td>696.0</td>\n",
       "      <td>622.0</td>\n",
       "    </tr>\n",
       "    <tr>\n",
       "      <th>GA-DEF_EASY_100_001</th>\n",
       "      <td>704</td>\n",
       "      <td>311</td>\n",
       "      <td>643</td>\n",
       "      <td>507</td>\n",
       "      <td>683.0</td>\n",
       "      <td>465.0</td>\n",
       "    </tr>\n",
       "    <tr>\n",
       "      <th>GA-DEF_EASY_100_002</th>\n",
       "      <td>571</td>\n",
       "      <td>272</td>\n",
       "      <td>513</td>\n",
       "      <td>486</td>\n",
       "      <td>516.0</td>\n",
       "      <td>417.0</td>\n",
       "    </tr>\n",
       "    <tr>\n",
       "      <th>GA-DEF_EASY_100_003</th>\n",
       "      <td>1046</td>\n",
       "      <td>711</td>\n",
       "      <td>975</td>\n",
       "      <td>975</td>\n",
       "      <td>1046.0</td>\n",
       "      <td>824.0</td>\n",
       "    </tr>\n",
       "    <tr>\n",
       "      <th>GA-DEF_EASY_100_004</th>\n",
       "      <td>691</td>\n",
       "      <td>352</td>\n",
       "      <td>625</td>\n",
       "      <td>625</td>\n",
       "      <td>625.0</td>\n",
       "      <td>512.0</td>\n",
       "    </tr>\n",
       "  </tbody>\n",
       "</table>\n",
       "</div>"
      ],
      "text/plain": [
       "                      DEF  MAXP  MAXPW  MINW    PBMH     GA\n",
       "INSTANCE                                                   \n",
       "GA-DEF_EASY_100_000   686   506    613   613   696.0  622.0\n",
       "GA-DEF_EASY_100_001   704   311    643   507   683.0  465.0\n",
       "GA-DEF_EASY_100_002   571   272    513   486   516.0  417.0\n",
       "GA-DEF_EASY_100_003  1046   711    975   975  1046.0  824.0\n",
       "GA-DEF_EASY_100_004   691   352    625   625   625.0  512.0"
      ]
     },
     "execution_count": 12,
     "metadata": {},
     "output_type": "execute_result"
    }
   ],
   "source": [
    "df_report_results.set_index('INSTANCE', inplace=True)\n",
    "df_report_results.head(5)"
   ]
  },
  {
   "cell_type": "code",
   "execution_count": 13,
   "metadata": {},
   "outputs": [],
   "source": [
    "df_report_results.to_csv(output_pbmh_results_path + \"//pbmh_comparison.csv\")"
   ]
  }
 ],
 "metadata": {
  "kernelspec": {
   "display_name": "Python 3",
   "language": "python",
   "name": "python3"
  },
  "language_info": {
   "codemirror_mode": {
    "name": "ipython",
    "version": 3
   },
   "file_extension": ".py",
   "mimetype": "text/x-python",
   "name": "python",
   "nbconvert_exporter": "python",
   "pygments_lexer": "ipython3",
   "version": "3.11.3"
  }
 },
 "nbformat": 4,
 "nbformat_minor": 2
}
