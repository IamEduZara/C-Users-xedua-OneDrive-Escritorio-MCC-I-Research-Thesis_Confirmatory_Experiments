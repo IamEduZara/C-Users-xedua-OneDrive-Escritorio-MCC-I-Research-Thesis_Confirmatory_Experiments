{
 "cells": [
  {
   "cell_type": "code",
   "execution_count": 1,
   "metadata": {},
   "outputs": [],
   "source": [
    "import matplotlib.pyplot as plt\n",
    "import pandas as pd\n",
    "import random\n",
    "import numpy\n",
    "from numpy import delete\n",
    "import os"
   ]
  },
  {
   "cell_type": "code",
   "execution_count": 2,
   "metadata": {},
   "outputs": [],
   "source": [
    "path_test_kpi_raw = r\"C:\\Users\\xedua\\OneDrive\\Escritorio\\MCC-I\\Research\\Thesis_Confirmatory_Experiments\\Instances\\Test\"\n",
    "path_results = r\"C:\\Users\\xedua\\OneDrive\\Escritorio\\MCC-I\\Research\\Thesis_Confirmatory_Experiments\\Results\\PBMH_results\\GA_rival_results\""
   ]
  },
  {
   "cell_type": "code",
   "execution_count": 3,
   "metadata": {},
   "outputs": [],
   "source": [
    "# Generator/Selector of PIs\n",
    "def instances(lib, instance_number, number_objects=100, difficulty=\"EASY\"):\n",
    "    fileName = path_test_kpi_raw + f\"\\\\GA-{lib}_{difficulty}_{number_objects}_{instance_number:03d}.kp\"\n",
    "    with open(fileName, \"r\") as f:\n",
    "        lines = f.readlines()\n",
    "    line = lines[0].split(\",\")\n",
    "    nbItems = int(line[0].strip())\n",
    "    k_limit = int(line[1].strip())\n",
    "    PI = [None] * nbItems\n",
    "    for i in range(nbItems):\n",
    "        line = lines[i + 1].split(\",\")\n",
    "        weight = int(line[0].strip())\n",
    "        profit = float(line[1].strip())\n",
    "        PI[i] = (profit, weight)\n",
    "    return PI, k_limit"
   ]
  },
  {
   "cell_type": "code",
   "execution_count": 4,
   "metadata": {},
   "outputs": [],
   "source": [
    "def createIndividual(PI, k_limit):\n",
    "    wgt = 0\n",
    "    solution = [0] * len(PI)\n",
    "    # Shuffle the indices to randomize the order in which items are considered\n",
    "    indices = list(range(len(PI)))\n",
    "    random.shuffle(indices)\n",
    "    for index in indices:\n",
    "        value, weight = PI[index]\n",
    "        if weight <= k_limit and wgt + weight <= k_limit:\n",
    "            decision = random.randint(0, 1)  # 0 or 1 for equal chance\n",
    "            if decision:\n",
    "                wgt += weight\n",
    "                solution[index] = 1\n",
    "    return solution"
   ]
  },
  {
   "cell_type": "code",
   "execution_count": 5,
   "metadata": {},
   "outputs": [],
   "source": [
    "def combine(parentA, parentB, cRate, PI, k_limit):\n",
    "    if random.random() > cRate:\n",
    "        return parentA.copy(), parentB.copy()\n",
    "\n",
    "    offspringA = [0] * len(parentA)\n",
    "    offspringB = [0] * len(parentB)\n",
    "\n",
    "    # Calculate the total weight of the knapsack for each gene being 1\n",
    "    def calculate_weight(individual):\n",
    "        return sum(weight for i, (value, weight) in enumerate(PI) if individual[i] == 1)\n",
    "\n",
    "    # Iterate over genes\n",
    "    for i in range(len(parentA)):\n",
    "        # For offspringA\n",
    "        if parentA[i] == 1 and calculate_weight(offspringA) + PI[i][1] <= k_limit:\n",
    "            offspringA[i] = 1\n",
    "        elif parentB[i] == 1 and calculate_weight(offspringA) + PI[i][1] <= k_limit:\n",
    "            offspringA[i] = 1\n",
    "\n",
    "        # For offspringB\n",
    "        if parentB[i] == 1 and calculate_weight(offspringB) + PI[i][1] <= k_limit:\n",
    "            offspringB[i] = 1\n",
    "        elif parentA[i] == 1 and calculate_weight(offspringB) + PI[i][1] <= k_limit:\n",
    "            offspringB[i] = 1\n",
    "\n",
    "    return offspringA, offspringB"
   ]
  },
  {
   "cell_type": "code",
   "execution_count": 6,
   "metadata": {},
   "outputs": [],
   "source": [
    "def mutate(individual, mRate, PI, k_limit):\n",
    "    individual_copy = individual.copy()\n",
    "    \n",
    "    # Calculate the current weight of the individual\n",
    "    def calculate_current_weight(ind):\n",
    "        return sum(PI[i][1] for i in range(len(ind)) if ind[i] == 1)\n",
    "\n",
    "    current_weight = calculate_current_weight(individual_copy)\n",
    "    \n",
    "    # Mutate the individual with consideration for the weight limit\n",
    "    for i in range(len(individual)):\n",
    "        if random.random() <= mRate:\n",
    "            # If the item is currently not included and adding it doesn't exceed the weight limit\n",
    "            if individual_copy[i] == 0 and current_weight + PI[i][1] <= k_limit:\n",
    "                individual_copy[i] = 1  # Include the item\n",
    "                current_weight += PI[i][1]  # Update the current weight\n",
    "            elif individual_copy[i] == 1:  # If the item is currently included, remove it\n",
    "                individual_copy[i] = 0\n",
    "                current_weight -= PI[i][1]  # Update the current weight\n",
    "\n",
    "    # The function returns the mutated individual, ensuring it doesn't exceed the weight limit\n",
    "    return individual_copy"
   ]
  },
  {
   "cell_type": "code",
   "execution_count": 7,
   "metadata": {},
   "outputs": [],
   "source": [
    "# Evaluator of Solutions\n",
    "def evaluator(PI, solution, k_limit):\n",
    "    s1 = (0, 0, 0)\n",
    "    for i in range(len(PI)): # Iterates all the objects in the problem instance\n",
    "        if solution[i] == 1: # When the object is in the knapsack considers the \n",
    "            # object in the evaluation\n",
    "            s1 = (k_limit, s1[1] + PI[i][0], s1[2] + PI[i][1]) # Sums up the profit and \n",
    "            # the weight of all the items\n",
    "    if s1[2] <= k_limit: # When the knapsack is not broken saves a record of 0\n",
    "        s1 = (k_limit, s1[1], s1[2], 0, solution)\n",
    "    else:\n",
    "        s1 = (k_limit, s1[1], s1[2], 1, solution) # When the knapsack is broken saves a record of 1\n",
    "    return s1"
   ]
  },
  {
   "cell_type": "code",
   "execution_count": 8,
   "metadata": {},
   "outputs": [],
   "source": [
    "# Tournament selection # It was changed\n",
    "def select(population, evaluation, tSize):\n",
    "  winner = numpy.random.randint(0, len(population)) # Assigns as the winner a \n",
    "  # random number (index) between 0 and the length of the population\n",
    "  for i in range(tSize - 1): # Iterates from 0 to the tournament size minus 1\n",
    "    rival = numpy.random.randint(0, len(population)) # Assigns as the rival a\n",
    "    # random number (index) between 0 and the length of the population\n",
    "    if (evaluation[rival][1] > evaluation[winner][1]): # When the rival \n",
    "      # value/profit is larger than the winner value/profit executes:\n",
    "      winner = rival # Assigns the rival index as the winner\n",
    "  return population[winner] # Returns the winner of the population"
   ]
  },
  {
   "cell_type": "code",
   "execution_count": 9,
   "metadata": {},
   "outputs": [],
   "source": [
    "# Evolutionary Process, Genetic Algorithm\n",
    "def geneticAlgorithm(PI, k_limit, lib, PI_num, population_size, generations, cRate, mRate):\n",
    "  population = []\n",
    "  evaluations = []\n",
    "  #Population Generator\n",
    "  for i in range(population_size):\n",
    "    population.append(createIndividual(PI, k_limit))\n",
    "    evaluations.append(evaluator(PI, population[i], k_limit))\n",
    "  population_size = len(population)\n",
    "  # Keeps a record of the best individual found so far\n",
    "  index = 0;\n",
    "  for i in range(1, population_size):\n",
    "    if (evaluations[i][1] > evaluations[index][1]):\n",
    "      index = i;      \n",
    "  bestIndividual = population[index]\n",
    "  bestEvaluation = evaluations[index]\n",
    "  \n",
    "  # Keeps the information for plotting the performance of the algorithm\n",
    "  best = [0] * generations\n",
    "  avg = [0] * generations\n",
    "\n",
    "  # Evolutionary Process\n",
    "  for i in range(generations):\n",
    "    newPopulation = []\n",
    "    \n",
    "    # Crossover\n",
    "    for j in range(population_size // 2):\n",
    "      parentA = select(population, evaluations, 3)\n",
    "      parentB = select(population, evaluations, 3)\n",
    "      offspring1, offspring2 = combine(parentA, parentB, cRate, PI, k_limit)\n",
    "      newPopulation.append(offspring1)\n",
    "      newPopulation.append(offspring2)\n",
    "    population = newPopulation\n",
    "    population_size = len(population)\n",
    "    \n",
    "    # Mutation\n",
    "    for j in range(population_size):\n",
    "      population[j] = mutate(population[j], mRate, PI, k_limit)\n",
    "      evaluations[j] = evaluator(PI, population[j], k_limit)\n",
    "    \n",
    "    # Broken Solutions Killer\n",
    "    population_size = len(population)\n",
    "    \n",
    "    # Keeps a record of the best individual found so far\n",
    "    for j in range(population_size):\n",
    "      if (evaluations[j][1] > bestEvaluation[1]):\n",
    "        bestEvaluation = evaluations[j]\n",
    "        bestIndividual = population[j]\n",
    "      best[i] = bestEvaluation[1]\n",
    "      avg[i] = numpy.average([evaluation[1] for evaluation in evaluations])\n",
    "  plt.plot(range(generations), best, label = \"Best\")\n",
    "  plt.plot(range(generations), avg, label = \"Average\")\n",
    "  plt.legend()\n",
    "  plt.xlabel('Generation Number')\n",
    "  plt.ylabel('Profit Units')\n",
    "  plt.savefig(path_results + f'\\\\GA_plots\\GAKP_{lib}_{PI_num}_Results.png',\n",
    "  transparent = False, dpi = 300)\n",
    "  plt.close()\n",
    "  return bestIndividual, bestEvaluation"
   ]
  },
  {
   "cell_type": "code",
   "execution_count": 10,
   "metadata": {},
   "outputs": [],
   "source": [
    "def solution_assembler(number_objects=100, difficulty=\"EASY\"):\n",
    "    libs = ['DEF', 'MAXPW', 'MAXP', 'MINW']\n",
    "    PI_nums = [str(num) for num in range(number_objects)] \n",
    "    PI_labels = [f'GA-{lib}_{difficulty}_100_{str(num).zfill(3)}' for lib in libs for num in range(number_objects)]\n",
    "    bestSolutions = []\n",
    "    bestEvaluations = []\n",
    "    for lib in libs:   \n",
    "        for i in range(len(PI_nums)):\n",
    "            PI, k_limit = instances(lib, int(PI_nums[i]))\n",
    "            solution, evaluation = geneticAlgorithm(PI, k_limit, lib, PI_nums[i], \n",
    "            population_size = len(PI), generations = 1000, cRate = 0.001, \n",
    "            mRate = 0.001)\n",
    "            bestEvaluations.append(evaluation)\n",
    "            bestSolutions.append(solution)\n",
    "    df = pd.DataFrame(bestEvaluations, columns=[\"Knapsack Limit\", \"Profit\", \"Weight\", \"Knapsack State\", \"Solution\"])\n",
    "    df['Solution'] = bestSolutions\n",
    "    df.index = PI_labels\n",
    "    df.index.names = ['Problem Instance']\n",
    "    df.to_csv(path_results + f'\\\\GAKP_Results.csv', encoding='utf-8')\n",
    "    print(\"Data has been successfully written to GAKP_results.csv\")\n",
    "    return df"
   ]
  },
  {
   "cell_type": "code",
   "execution_count": 11,
   "metadata": {},
   "outputs": [
    {
     "name": "stdout",
     "output_type": "stream",
     "text": [
      "Data has been successfully written to GAKP_results.csv\n"
     ]
    }
   ],
   "source": [
    "df = solution_assembler()"
   ]
  }
 ],
 "metadata": {
  "kernelspec": {
   "display_name": "Python 3",
   "language": "python",
   "name": "python3"
  },
  "language_info": {
   "codemirror_mode": {
    "name": "ipython",
    "version": 3
   },
   "file_extension": ".py",
   "mimetype": "text/x-python",
   "name": "python",
   "nbconvert_exporter": "python",
   "pygments_lexer": "ipython3",
   "version": "3.11.3"
  }
 },
 "nbformat": 4,
 "nbformat_minor": 2
}
