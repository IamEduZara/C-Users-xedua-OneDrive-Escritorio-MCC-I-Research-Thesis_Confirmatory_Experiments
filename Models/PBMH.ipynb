{
 "cells": [
  {
   "attachments": {},
   "cell_type": "markdown",
   "metadata": {},
   "source": [
    "## Modules"
   ]
  },
  {
   "attachments": {},
   "cell_type": "markdown",
   "metadata": {},
   "source": [
    "For this experiment, Python will be used with the following modules:\n",
    "* Pandas\n",
    "    + To tabulate results, and calculations in a csv format\n",
    "* Numpy & Random\n",
    "    + For the generation of random values\n",
    "* Os\n",
    "    + To select the workspace path where the problem instance library is located"
   ]
  },
  {
   "cell_type": "code",
   "execution_count": 15,
   "metadata": {},
   "outputs": [],
   "source": [
    "import pandas as pd\n",
    "import numpy\n",
    "import random\n",
    "import os"
   ]
  },
  {
   "cell_type": "code",
   "execution_count": 16,
   "metadata": {},
   "outputs": [],
   "source": [
    "path_test_kpi_raw = r\"C:\\Users\\xedua\\OneDrive\\Escritorio\\MCC-I\\Research\\Thesis_Confirmatory_Experiments\\Instances\\Test\"\n",
    "path_results = r\"C:\\Users\\xedua\\OneDrive\\Escritorio\\MCC-I\\Research\\Thesis_Confirmatory_Experiments\\Results\\PBMH_results\""
   ]
  },
  {
   "attachments": {},
   "cell_type": "markdown",
   "metadata": {},
   "source": [
    "## Generator/Selector of PIs"
   ]
  },
  {
   "attachments": {},
   "cell_type": "markdown",
   "metadata": {},
   "source": [
    "Description of the **_«instances»_** function:\n",
    "* The purpose of this function is to return a tuple with problem instance objects (inside tuples) from the library with its knapsack limit\n",
    "\n",
    "* **_Parameters_**\n",
    "    + number_objects: Integer\n",
    "        - The amount of available objects that will contain the problem instance \n",
    "    + lib: _String_\n",
    "        - Indicates the type of library to be selected\n",
    "* **_Returns_**\n",
    "    + PI: List of tuples with integers\n",
    "        - The library selected problem instance, each object is a tuple of (profit, weight)\n",
    "    + k_limit: Integer\n",
    "        - The knapsack limit selected from the problem instance library`"
   ]
  },
  {
   "cell_type": "code",
   "execution_count": 17,
   "metadata": {},
   "outputs": [],
   "source": [
    "# Generator/Selector of PIs\n",
    "def instances(lib, instance_number, number_objects=100, difficulty=\"EASY\"):\n",
    "    fileName = path_test_kpi_raw + f\"\\\\GA-{lib}_{difficulty}_{number_objects}_{instance_number:03d}.kp\"\n",
    "    with open(fileName, \"r\") as f:\n",
    "        lines = f.readlines()\n",
    "    line = lines[0].split(\",\")\n",
    "    nbItems = int(line[0].strip())\n",
    "    k_limit = int(line[1].strip())\n",
    "    PI = [None] * nbItems\n",
    "    for i in range(nbItems):\n",
    "        line = lines[i + 1].split(\",\")\n",
    "        weight = int(line[0].strip())\n",
    "        profit = float(line[1].strip())\n",
    "        PI[i] = (profit, weight)\n",
    "    return PI, k_limit"
   ]
  },
  {
   "cell_type": "code",
   "execution_count": 18,
   "metadata": {},
   "outputs": [],
   "source": [
    "# Maximum Profit Solution Generator\n",
    "def MAP(PI, k_limit):\n",
    "    number_objects = len(PI)\n",
    "    wgt = 0\n",
    "    MAP = []\n",
    "    solution = [0] * number_objects # Creates solution template of 0s\n",
    "    for i in range(number_objects):\n",
    "        MAP.append((i, PI[i][0], PI[i][1], PI[i][0]/PI[i][1])) # Adds a new \n",
    "        # indexed problems list\n",
    "    MAP = sorted(MAP, reverse = True, key = lambda x: x[1]) # Sorts the new list\n",
    "    # by weight\n",
    "    for object in MAP:\n",
    "        if object[2] > k_limit:\n",
    "            continue\n",
    "        wgt += object[2] # Evaluates the acumulated weight\n",
    "        if wgt <= k_limit: # When the knapsack is broken, omits the object\n",
    "            solution[object[0]] = 1 # Adds the most profitable object until full\n",
    "        else:\n",
    "            wgt -= object[2]\n",
    "    return solution"
   ]
  },
  {
   "cell_type": "code",
   "execution_count": 19,
   "metadata": {},
   "outputs": [],
   "source": [
    "# Minimum Profit Solution Generator\n",
    "def MIP(PI, k_limit):\n",
    "    number_objects = len(PI)\n",
    "    wgt = 0\n",
    "    MIP = []\n",
    "    solution = [0] * number_objects # Creates solution template of 0s\n",
    "    for i in range(number_objects):\n",
    "        MIP.append((i, PI[i][0], PI[i][1], PI[i][0]/PI[i][1])) # Adds a new \n",
    "        # indexed problems list\n",
    "    MIP = sorted(MIP, key = lambda x: x[1]) # Sorts the new list\n",
    "    # by weight\n",
    "    for object in MIP:\n",
    "        if object[2] > k_limit:\n",
    "            continue\n",
    "        wgt += object[2] # Evaluates the acumulated weight\n",
    "        if wgt <= k_limit: # When the knapsack is broken, omits the object\n",
    "            solution[object[0]] = 1 # Adds the most profitable object until full\n",
    "        else:\n",
    "            wgt -= object[2]\n",
    "    return solution"
   ]
  },
  {
   "cell_type": "code",
   "execution_count": 20,
   "metadata": {},
   "outputs": [],
   "source": [
    "# Minimum Weight Heuristic Solution Generator\n",
    "def MIW(PI, k_limit):\n",
    "    number_objects = len(PI)\n",
    "    wgt = 0\n",
    "    MIW = []\n",
    "    solution = [0] * number_objects # Creates solution template of 0s\n",
    "    for i in range(number_objects):\n",
    "        MIW.append((i, PI[i][0], PI[i][1])) # Adds a new indexed problems list\n",
    "    MIW = sorted(MIW, key = lambda x: x[2]) # Sorts the new list by weight\n",
    "    for object in MIW:\n",
    "        if object[2] > k_limit:\n",
    "            continue\n",
    "        wgt += object[2] # Evaluates the acumulated weight\n",
    "        if wgt <= k_limit: # When the knapsack is broken, omits the object\n",
    "            solution[object[0]] = 1 # Adds the lighter object until full\n",
    "        else:\n",
    "            wgt -= object[2]\n",
    "    return solution"
   ]
  },
  {
   "cell_type": "code",
   "execution_count": 21,
   "metadata": {},
   "outputs": [],
   "source": [
    "# Maximum Weight Heuristic Solution Generator\n",
    "def MAW(PI, k_limit):\n",
    "    number_objects = len(PI)\n",
    "    wgt = 0\n",
    "    MAW = []\n",
    "    solution = [0] * number_objects # Creates solution template of 0s\n",
    "    for i in range(number_objects):\n",
    "        MAW.append((i, PI[i][0], PI[i][1])) # Adds a new indexed problems list\n",
    "    MAW = sorted(MAW, reverse = True, key = lambda x: x[2]) # Sorts the new list by weight\n",
    "    for object in MAW:\n",
    "        if object[2] > k_limit:\n",
    "            continue\n",
    "        wgt += object[2] # Evaluates the acumulated weight\n",
    "        if wgt <= k_limit: # When the knapsack is broken, omits the object\n",
    "            solution[object[0]] = 1 # Adds the lighter object until full\n",
    "        else:\n",
    "            wgt -= object[2]\n",
    "    return solution"
   ]
  },
  {
   "cell_type": "code",
   "execution_count": 22,
   "metadata": {},
   "outputs": [],
   "source": [
    "# Maximum Profit per Weight Unit Solution Generator\n",
    "def MAPW(PI, k_limit):\n",
    "    number_objects = len(PI)\n",
    "    wgt = 0\n",
    "    MAPW = []\n",
    "    solution = [0] * number_objects # Creates solution template of 0s\n",
    "    for i in range(number_objects):\n",
    "        MAPW.append((i, PI[i][0], PI[i][1], PI[i][0]/PI[i][1])) # Adds a new \n",
    "        # indexed problems list\n",
    "    MAPW = sorted(MAPW, reverse = True, key = lambda x: x[3]) # Sorts the new list\n",
    "    # by weight\n",
    "    for object in MAPW:\n",
    "        if object[2] > k_limit:\n",
    "            continue\n",
    "        wgt += object[2] # Evaluates the acumulated weight\n",
    "        if wgt <= k_limit: # When the knapsack is broken, omits the object\n",
    "            solution[object[0]] = 1 # Adds the most profitable object until full\n",
    "        else:\n",
    "            wgt -= object[2]\n",
    "    return solution"
   ]
  },
  {
   "cell_type": "code",
   "execution_count": 23,
   "metadata": {},
   "outputs": [],
   "source": [
    "# Minimum Profit per Weight Unit Solution Generator\n",
    "def MIPW(PI, k_limit):\n",
    "    number_objects = len(PI)\n",
    "    wgt = 0\n",
    "    MIPW = []\n",
    "    solution = [0] * number_objects # Creates solution template of 0s\n",
    "    for i in range(number_objects):\n",
    "        MIPW.append((i, PI[i][0], PI[i][1], PI[i][0]/PI[i][1])) # Adds a new \n",
    "        # indexed problems list\n",
    "    MIPW = sorted(MIPW, key = lambda x: x[3]) # Sorts the new list\n",
    "    # by weight\n",
    "    for object in MIPW:\n",
    "        if object[2] > k_limit:\n",
    "            continue\n",
    "        wgt += object[2] # Evaluates the acumulated weight\n",
    "        if wgt <= k_limit: # When the knapsack is broken, omits the object\n",
    "            solution[object[0]] = 1 # Adds the most profitable object until full\n",
    "    return solution"
   ]
  },
  {
   "cell_type": "code",
   "execution_count": 24,
   "metadata": {},
   "outputs": [],
   "source": [
    "# Cellular Automata Solution Generator\n",
    "def SolutionAssembler(PI, k_limit):\n",
    "    wgt = 0\n",
    "    solution = [0] * len(PI)\n",
    "    solvers = [MAPW, MAP, MIW]    \n",
    "    strategy = [None] * len(PI)\n",
    "    for i in range(len(PI)):\n",
    "        rand_id = random.randint(0, 2)\n",
    "        result = solvers[rand_id](PI, k_limit)\n",
    "        if PI[i][1] > k_limit:\n",
    "            continue\n",
    "        if result[i] == 1:\n",
    "            wgt += PI[i][1]\n",
    "            if wgt > k_limit:\n",
    "                wgt -= PI[i][1]\n",
    "                solution[i] = 0\n",
    "            else:\n",
    "                solution[i] = result[i]\n",
    "                strategy[i] = rand_id\n",
    "    solution = (solution, strategy)\n",
    "    return solution"
   ]
  },
  {
   "cell_type": "code",
   "execution_count": 25,
   "metadata": {},
   "outputs": [],
   "source": [
    "def CA_Evolver(PI, k_limit, generations=1000):\n",
    "    # Initialize cellular automata with solutions from SolutionAssembler\n",
    "    CA = [SolutionAssembler(PI, k_limit) for _ in range(len(PI))]\n",
    "    for _ in range(generations):\n",
    "        # Create a copy of the current cellular automata generation\n",
    "        new_CA = CA.copy()\n",
    "        for i in range(len(CA)):\n",
    "            # Create new solution for this cell\n",
    "            new_solution = SolutionAssembler(PI, k_limit)\n",
    "            # Calculate profits\n",
    "            old_profit = evaluator(PI, CA[i], k_limit)\n",
    "            new_profit = evaluator(PI, new_solution, k_limit)\n",
    "            # Compare profits and decide whether to keep the old solution or switch to the new one\n",
    "            if new_profit[1] > old_profit[1]:\n",
    "                new_CA[i] = new_solution\n",
    "        # Update cellular automata with new generation\n",
    "        CA = new_CA\n",
    "    # Calculate the profits for the last generation\n",
    "    profits = [evaluator(PI, solution, k_limit)[1] for solution in CA]\n",
    "    # Select the best solution (highest profit) from the last generation\n",
    "    best_solution = CA[profits.index(max(profits))]\n",
    "    return best_solution"
   ]
  },
  {
   "cell_type": "code",
   "execution_count": 26,
   "metadata": {},
   "outputs": [],
   "source": [
    "def evaluator(PI, solution, k_limit):\n",
    "    total_weight = total_profit = 0\n",
    "    # Sum up the profit and weight of the selected items.\n",
    "    for i, item_selected in enumerate(solution[0]):\n",
    "        if item_selected:\n",
    "            total_profit += PI[i][0]\n",
    "            total_weight += PI[i][1]\n",
    "    # Check if the total weight exceeds the limit.\n",
    "    is_overweight = 1 if total_weight > k_limit else 0\n",
    "    # Return a tuple containing the evaluation results.\n",
    "    return (k_limit, total_profit, total_weight, is_overweight, solution[0], solution[1])"
   ]
  },
  {
   "cell_type": "code",
   "execution_count": 27,
   "metadata": {},
   "outputs": [],
   "source": [
    "def generator(number_objects=100, difficulty=\"EASY\"):\n",
    "    libs = ['DEF', 'MAXPW', 'MAXP', 'MINW']\n",
    "    PI_nums = [num for num in range(number_objects)]\n",
    "    PI_labels = [f'GA-{lib}_{difficulty}_100_{str(num).zfill(3)}' for lib in libs for num in range(number_objects)]\n",
    "    evaluations = []\n",
    "    for lib in libs:\n",
    "        for i in range(len(PI_nums)):\n",
    "            PI, k_limit = instances(lib, PI_nums[i])\n",
    "            solution = CA_Evolver(PI, k_limit)\n",
    "            evaluations.append(evaluator(PI, solution, k_limit))\n",
    "    df = pd.DataFrame(evaluations, columns = ['Knapsack Limit','Profit',\n",
    "    'Weight', 'Knapsack State', 'Solution', 'Strategy'])\n",
    "    df.index = PI_labels\n",
    "    df.index.names = ['Problem Instance']\n",
    "    df.to_csv(path_results + \"\\\\PBMH_results.csv\")\n",
    "    print(\"Data has been successfully written to PBMH_results.csv\")\n",
    "    return df"
   ]
  },
  {
   "cell_type": "code",
   "execution_count": 28,
   "metadata": {},
   "outputs": [],
   "source": [
    "df = generator()"
   ]
  }
 ],
 "metadata": {
  "kernelspec": {
   "display_name": "Python 3",
   "language": "python",
   "name": "python3"
  },
  "language_info": {
   "codemirror_mode": {
    "name": "ipython",
    "version": 3
   },
   "file_extension": ".py",
   "mimetype": "text/x-python",
   "name": "python",
   "nbconvert_exporter": "python",
   "pygments_lexer": "ipython3",
   "version": "3.11.3"
  },
  "orig_nbformat": 4
 },
 "nbformat": 4,
 "nbformat_minor": 2
}
